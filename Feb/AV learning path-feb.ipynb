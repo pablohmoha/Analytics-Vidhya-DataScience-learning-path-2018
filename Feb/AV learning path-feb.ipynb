{
 "cells": [
  {
   "cell_type": "markdown",
   "metadata": {},
   "source": [
    "# Introduction to Statistics"
   ]
  },
  {
   "cell_type": "markdown",
   "metadata": {},
   "source": [
    "- Statistics are facts and figures"
   ]
  },
  {
   "cell_type": "markdown",
   "metadata": {},
   "source": [
    " - [10 awesome reasons why statistics are important](https://medium.com/@john_marsh7/10-awesome-reasons-why-statistics-are-important-96b87e283640) – This article by John Marsh on Medium lists 10 areas ranging from weather forecasts to financial markets where statistics is used.\n",
    " \n",
    "  - [How do Data Scientists use Statistics?](https://www.quora.com/How-do-data-scientists-use-statistics)- This Quora answer by William Chen takes the Data Science perspective and lists down the different areas in which a Data Scientist uses Statistics in one form or the other.\n",
    " "
   ]
  },
  {
   "cell_type": "markdown",
   "metadata": {},
   "source": [
    "- **Descriptive statistics** are numbers that are used to summarize and describe data. The word \"data\" refers to the information that has been collected from an experiment, a survey, a historical record, etc."
   ]
  },
  {
   "cell_type": "markdown",
   "metadata": {},
   "source": [
    "- **Design experiments**"
   ]
  },
  {
   "cell_type": "markdown",
   "metadata": {},
   "source": [
    "###  Q. You want to understand the effectiveness of a medicine X as a painkiller. What would be a good strategy to divide the sample into control and treatment group?\n",
    "###### A. Sample people randomly from the population and then divide them randomly between control and experiment.\n"
   ]
  },
  {
   "cell_type": "markdown",
   "metadata": {},
   "source": [
    "# Visualizing Data"
   ]
  },
  {
   "cell_type": "markdown",
   "metadata": {},
   "source": [
    "- ### Aims of Data Visualization @Oreilly\n",
    "    1. Preattentive cognition\n",
    "    2. Accuracy with which people interprate the data \n",
    "       \n",
    "    "
   ]
  },
  {
   "cell_type": "markdown",
   "metadata": {},
   "source": [
    "# [Central tendency](http://web.mnstate.edu/smithb/ed602a/lessons/lesson5.html)\n",
    "### Measures of Central Tendency - Numbers that represent the average or typical score obtained from measurements of a sample. Mean, median and mode are the three most common measures of central tendency."
   ]
  },
  {
   "cell_type": "markdown",
   "metadata": {},
   "source": [
    "- Mean: The sum of the scores divided by the number of scores in the sample.\n",
    "- Mode: Mode is defined as the value that occurs most frequently in the data. Some data sets do not have a mode because each value occurs only once. On the other hand, some data sets can have more than one mode. This happens when the data set has two or more values of equal frequency which is greater than that of any other value.\n",
    "- Median: Median is the value which occupies the middle position when all the observations are arranged in an ascending/descending order."
   ]
  },
  {
   "cell_type": "markdown",
   "metadata": {},
   "source": [
    "[Unimodel distribution](https://courses.lumenlearning.com/introstats1/chapter/skewness-and-the-mean-median-and-mode/)\n",
    "- The histogram displays a symmetrical distribution of data. A distribution is symmetrical if a vertical line can be drawn at some point in the histogram such that the shape to the left and the right of the vertical line are mirror images of each other. In a perfectly symmetrical distribution, the mean and the median are the same. \n",
    "- Positive skewed (skewed to the right). The mean is the largest, while the mode is the smallest. Again, the mean reflects the skewing the most.\n",
    "- Negatively skewed (skewed to the left). Notice that the mean is less than the median, and they are both less than the mode."
   ]
  },
  {
   "cell_type": "markdown",
   "metadata": {},
   "source": [
    " ### Q. Arithmetic mean is 12 and number of observations are 20 then sum of all values is\n",
    "- 240"
   ]
  },
  {
   "cell_type": "markdown",
   "metadata": {},
   "source": [
    "### Q. The mean is\n",
    "- The statistical or arithmetic average"
   ]
  },
  {
   "cell_type": "markdown",
   "metadata": {},
   "source": [
    "### Q. Given the following set of data, what is the range? [ 12 23 34 54 21 8 9 67 ]\n",
    "- 59"
   ]
  },
  {
   "cell_type": "markdown",
   "metadata": {},
   "source": [
    "### Q.  In uni-model distribution, if mode is less than mean\n",
    "- Positively Skewed"
   ]
  },
  {
   "cell_type": "markdown",
   "metadata": {},
   "source": [
    "### Q. Which measure of central tendency suits the best for this bi-modal distribution?\n",
    "<img src=\"unimodel.JPG\" alt=\"Uni-model distribution\" title=\"Title text\" />\n",
    "- Median"
   ]
  },
  {
   "cell_type": "markdown",
   "metadata": {},
   "source": [
    "# Measures of Variability"
   ]
  },
  {
   "cell_type": "markdown",
   "metadata": {},
   "source": [
    "<img src=\"measuresofvariability.JPG\" alt=\"Measure of variability\" />"
   ]
  },
  {
   "cell_type": "markdown",
   "metadata": {},
   "source": [
    "### Q. Standard deviation of first 10 natural numbers is\n",
    "- 2.87"
   ]
  },
  {
   "cell_type": "code",
   "execution_count": 11,
   "metadata": {},
   "outputs": [
    {
     "data": {
      "text/plain": [
       "2.8722813232690143"
      ]
     },
     "execution_count": 11,
     "metadata": {},
     "output_type": "execute_result"
    }
   ],
   "source": [
    "from statistics import pstdev\n",
    "pstdev([1,2,3,4,5,6,7,8,9,10])"
   ]
  },
  {
   "cell_type": "markdown",
   "metadata": {},
   "source": [
    "### Q. In statistics, distance or dispersion from central value is classified as\n",
    "- standard deviation"
   ]
  },
  {
   "cell_type": "markdown",
   "metadata": {},
   "source": [
    "### Q. Lowest value of variance can be\n",
    "- 0"
   ]
  },
  {
   "cell_type": "markdown",
   "metadata": {},
   "source": [
    "### Q. The sum of the deviations about the mean is always:\n",
    "- Zero"
   ]
  },
  {
   "cell_type": "markdown",
   "metadata": {},
   "source": [
    "### Q. Normal distribution is also classified as\n",
    "- Gaussian distribution"
   ]
  },
  {
   "cell_type": "markdown",
   "metadata": {},
   "source": [
    "### Q. If X~N(100, 64), then standard deviation σ is:\n",
    "- 8"
   ]
  },
  {
   "cell_type": "code",
   "execution_count": 6,
   "metadata": {},
   "outputs": [
    {
     "name": "stdout",
     "output_type": "stream",
     "text": [
      "2\n",
      "4\n"
     ]
    }
   ],
   "source": [
    "i = 2\n",
    "while True:\n",
    "    if i%3 == 0:\n",
    "        break\n",
    "    print(i)\n",
    "    i += 2"
   ]
  },
  {
   "cell_type": "markdown",
   "metadata": {},
   "source": [
    "# Statistics: Inferential"
   ]
  },
  {
   "cell_type": "markdown",
   "metadata": {},
   "source": [
    "### Hypothesis testing"
   ]
  },
  {
   "cell_type": "markdown",
   "metadata": {},
   "source": [
    "###  Q. If we reject the null hypothesis, we conclude that:\n",
    "- there is enough evidence that the alternative hypothesis is true correct"
   ]
  },
  {
   "cell_type": "markdown",
   "metadata": {},
   "source": [
    "### Q. Given the null hypothesis: that a process is producing no more than the maximum allowable rate of defective items. In this situation, a type II error(failing to reject the null hypothesis when it is actually false) would be:\n",
    "- to conclude that the process is not producing too many defectives when it actually is"
   ]
  },
  {
   "cell_type": "markdown",
   "metadata": {},
   "source": [
    "## [T-test](https://towardsdatascience.com/inferential-statistics-series-t-test-using-numpy-2718f8f9bf2f)"
   ]
  },
  {
   "cell_type": "markdown",
   "metadata": {},
   "source": [
    "What is t-test?\n",
    "The t test (also called Student’s T Test) compares two averages (means) and tells you if they are different from each other. The t test also tells you how significant the differences are; In other words it lets you know if those differences could have happened by chance."
   ]
  },
  {
   "cell_type": "code",
   "execution_count": 7,
   "metadata": {},
   "outputs": [
    {
     "name": "stdout",
     "output_type": "stream",
     "text": [
      "t = 4.597197850670375\n",
      "p = 0.00022362244446516577\n",
      "t = 4.597197850670375\n",
      "p = 0.0004472448889300266\n"
     ]
    }
   ],
   "source": [
    "## Import the packages\n",
    "import numpy as np\n",
    "from scipy import stats\n",
    "\n",
    "\n",
    "## Define 2 random distributions\n",
    "#Sample Size\n",
    "N = 10\n",
    "#Gaussian distributed data with mean = 2 and var = 1\n",
    "a = np.random.randn(N) + 2\n",
    "#Gaussian distributed data with with mean = 0 and var = 1\n",
    "b = np.random.randn(N)\n",
    "\n",
    "\n",
    "## Calculate the Standard Deviation\n",
    "#Calculate the variance to get the standard deviation\n",
    "\n",
    "#For unbiased max likelihood estimate we have to divide the var by N-1, and therefore the parameter ddof = 1\n",
    "var_a = a.var(ddof=1)\n",
    "var_b = b.var(ddof=1)\n",
    "\n",
    "#std deviation\n",
    "s = np.sqrt((var_a + var_b)/2)\n",
    "s\n",
    "\n",
    "\n",
    "\n",
    "## Calculate the t-statistics\n",
    "t = (a.mean() - b.mean())/(s*np.sqrt(2/N))\n",
    "\n",
    "\n",
    "\n",
    "## Compare with the critical t-value\n",
    "#Degrees of freedom\n",
    "df = 2*N - 2\n",
    "\n",
    "#p-value after comparison with the t \n",
    "p = 1 - stats.t.cdf(t,df=df)\n",
    "\n",
    "\n",
    "print(\"t = \" + str(t))\n",
    "print(\"p = \" + str(2*p))\n",
    "#Note that we multiply the p value by 2 because its a twp tail t-test\n",
    "### You can see that after comparing the t statistic with the critical t value (computed internally) we get a good p value of 0.0005 and thus we reject the null hypothesis and thus it proves that the mean of the two distributions are different and statistically significant.\n",
    "\n",
    "\n",
    "## Cross Checking with the internal scipy function\n",
    "t2, p2 = stats.ttest_ind(a,b)\n",
    "print(\"t = \" + str(t2))\n",
    "print(\"p = \" + str(2*p2))"
   ]
  },
  {
   "cell_type": "markdown",
   "metadata": {},
   "source": [
    "### Q. Which of the following would most likely cause the confidence interval to become smaller?\n",
    "- Decreasing the standard error "
   ]
  },
  {
   "cell_type": "markdown",
   "metadata": {},
   "source": [
    "### Q. GPA scores of two samples of students are given below. Sample A is the scores of students who sleep for around 8 hours a day and Sample B is the scores of students who slept around 6 hours a day. Sample A: 5,7,5,3,5,3,3,9. Sample B: 8,1,4,6,6,4,1,2. What is the t-value(closest value|"
   ]
  },
  {
   "cell_type": "code",
   "execution_count": 14,
   "metadata": {},
   "outputs": [
    {
     "name": "stdout",
     "output_type": "stream",
     "text": [
      "t = Ttest_indResult(statistic=0.8473185457363235, pvalue=0.41106918972215445)\n"
     ]
    }
   ],
   "source": [
    "import numpy as np\n",
    "from scipy import stats\n",
    "\n",
    "A = [5,7,5,3,5,3,3,9]\n",
    "B = [8,1,4,6,6,4,1,2]\n",
    "\n",
    "t = stats.ttest_ind(A,B)\n",
    "print(\"t = \" + str(t))\n"
   ]
  },
  {
   "cell_type": "markdown",
   "metadata": {},
   "source": [
    "## ANOVA"
   ]
  },
  {
   "cell_type": "markdown",
   "metadata": {},
   "source": [
    "### Q. The ANOVA procedure is a statistical approach for determining whether\n",
    "- The means of two or more populations are equal"
   ]
  },
  {
   "cell_type": "markdown",
   "metadata": {},
   "source": [
    "### Q. What are the two types of variance which can occur in your data?\n",
    "- Between and Within groups"
   ]
  },
  {
   "cell_type": "markdown",
   "metadata": {},
   "source": [
    "## Chi-square"
   ]
  },
  {
   "cell_type": "markdown",
   "metadata": {},
   "source": [
    "### Q. The mean square is the sum of squares divided by\n",
    "- Its corresponding degrees of freedom\n"
   ]
  },
  {
   "cell_type": "markdown",
   "metadata": {},
   "source": [
    "### Q. The chi-square test can be too sensitive if the sample is:\n",
    "- Very large"
   ]
  },
  {
   "cell_type": "markdown",
   "metadata": {},
   "source": [
    "### Q. In the chi-square test equation, you must find the difference between which of\n",
    "\n",
    "the following?\n",
    "- Your observed and expected results"
   ]
  },
  {
   "cell_type": "code",
   "execution_count": null,
   "metadata": {},
   "outputs": [],
   "source": []
  }
 ],
 "metadata": {
  "kernelspec": {
   "display_name": "Python 3",
   "language": "python",
   "name": "python3"
  },
  "language_info": {
   "codemirror_mode": {
    "name": "ipython",
    "version": 3
   },
   "file_extension": ".py",
   "mimetype": "text/x-python",
   "name": "python",
   "nbconvert_exporter": "python",
   "pygments_lexer": "ipython3",
   "version": "3.6.4"
  }
 },
 "nbformat": 4,
 "nbformat_minor": 2
}
