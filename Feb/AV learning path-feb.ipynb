{
 "cells": [
  {
   "cell_type": "markdown",
   "metadata": {},
   "source": [
    "# Introduction to Statistics"
   ]
  },
  {
   "cell_type": "markdown",
   "metadata": {},
   "source": [
    "- Statistics are facts and figures"
   ]
  },
  {
   "cell_type": "markdown",
   "metadata": {},
   "source": [
    " - [10 awesome reasons why statistics are important](https://medium.com/@john_marsh7/10-awesome-reasons-why-statistics-are-important-96b87e283640) – This article by John Marsh on Medium lists 10 areas ranging from weather forecasts to financial markets where statistics is used.\n",
    " \n",
    "  - [How do Data Scientists use Statistics?](https://www.quora.com/How-do-data-scientists-use-statistics)- This Quora answer by William Chen takes the Data Science perspective and lists down the different areas in which a Data Scientist uses Statistics in one form or the other.\n",
    " "
   ]
  },
  {
   "cell_type": "markdown",
   "metadata": {},
   "source": [
    "- **Descriptive statistics** are numbers that are used to summarize and describe data. The word \"data\" refers to the information that has been collected from an experiment, a survey, a historical record, etc."
   ]
  },
  {
   "cell_type": "markdown",
   "metadata": {},
   "source": [
    "- **Design experiments**"
   ]
  },
  {
   "cell_type": "markdown",
   "metadata": {},
   "source": [
    "###  Q. You want to understand the effectiveness of a medicine X as a painkiller. What would be a good strategy to divide the sample into control and treatment group?\n",
    "###### A. Sample people randomly from the population and then divide them randomly between control and experiment.\n"
   ]
  },
  {
   "cell_type": "markdown",
   "metadata": {},
   "source": [
    "# Visualizing Data"
   ]
  },
  {
   "cell_type": "markdown",
   "metadata": {},
   "source": [
    "- ### Aims of Data Visualization @Oreilly\n",
    "    1. Preattentive cognition\n",
    "    2. Accuracy with which people interprate the data \n",
    "       \n",
    "    "
   ]
  },
  {
   "cell_type": "markdown",
   "metadata": {},
   "source": [
    "# [Central tendency](http://web.mnstate.edu/smithb/ed602a/lessons/lesson5.html)\n",
    "### Measures of Central Tendency - Numbers that represent the average or typical score obtained from measurements of a sample. Mean, median and mode are the three most common measures of central tendency."
   ]
  },
  {
   "cell_type": "markdown",
   "metadata": {},
   "source": [
    "- Mean: The sum of the scores divided by the number of scores in the sample.\n",
    "- Mode: Mode is defined as the value that occurs most frequently in the data. Some data sets do not have a mode because each value occurs only once. On the other hand, some data sets can have more than one mode. This happens when the data set has two or more values of equal frequency which is greater than that of any other value.\n",
    "- Median: Median is the value which occupies the middle position when all the observations are arranged in an ascending/descending order."
   ]
  },
  {
   "cell_type": "markdown",
   "metadata": {},
   "source": [
    "[Unimodel distribution](https://courses.lumenlearning.com/introstats1/chapter/skewness-and-the-mean-median-and-mode/)\n",
    "- The histogram displays a symmetrical distribution of data. A distribution is symmetrical if a vertical line can be drawn at some point in the histogram such that the shape to the left and the right of the vertical line are mirror images of each other. In a perfectly symmetrical distribution, the mean and the median are the same. \n",
    "- Positive skewed (skewed to the right). The mean is the largest, while the mode is the smallest. Again, the mean reflects the skewing the most.\n",
    "- Negatively skewed (skewed to the left). Notice that the mean is less than the median, and they are both less than the mode."
   ]
  },
  {
   "cell_type": "markdown",
   "metadata": {},
   "source": [
    " ### Q. Arithmetic mean is 12 and number of observations are 20 then sum of all values is\n",
    "- 240"
   ]
  },
  {
   "cell_type": "markdown",
   "metadata": {},
   "source": [
    "### Q. The mean is\n",
    "- The statistical or arithmetic average"
   ]
  },
  {
   "cell_type": "markdown",
   "metadata": {},
   "source": [
    "### Q. Given the following set of data, what is the range? [ 12 23 34 54 21 8 9 67 ]\n",
    "- 59"
   ]
  },
  {
   "cell_type": "markdown",
   "metadata": {},
   "source": [
    "### Q.  In uni-model distribution, if mode is less than mean\n",
    "- Positively Skewed"
   ]
  },
  {
   "cell_type": "markdown",
   "metadata": {},
   "source": [
    "### Q. Which measure of central tendency suits the best for this bi-modal distribution?\n",
    "<img src=\"unimodel.JPG\" alt=\"Uni-model distribution\" title=\"Title text\" />\n",
    "- Median"
   ]
  },
  {
   "cell_type": "markdown",
   "metadata": {},
   "source": [
    "# Measures of Variability"
   ]
  },
  {
   "cell_type": "markdown",
   "metadata": {},
   "source": [
    "<img src=\"measuresofvariability.JPG\" alt=\"Measure of variability\" />"
   ]
  },
  {
   "cell_type": "markdown",
   "metadata": {},
   "source": [
    "### Q. Standard deviation of first 10 natural numbers is\n",
    "- 2.87"
   ]
  },
  {
   "cell_type": "code",
   "execution_count": 11,
   "metadata": {},
   "outputs": [
    {
     "data": {
      "text/plain": [
       "2.8722813232690143"
      ]
     },
     "execution_count": 11,
     "metadata": {},
     "output_type": "execute_result"
    }
   ],
   "source": [
    "from statistics import pstdev\n",
    "pstdev([1,2,3,4,5,6,7,8,9,10])"
   ]
  },
  {
   "cell_type": "markdown",
   "metadata": {},
   "source": [
    "### Q. In statistics, distance or dispersion from central value is classified as\n",
    "- standard deviation"
   ]
  },
  {
   "cell_type": "markdown",
   "metadata": {},
   "source": [
    "### Q. Lowest value of variance can be\n",
    "- 0"
   ]
  },
  {
   "cell_type": "markdown",
   "metadata": {},
   "source": [
    "### Q. The sum of the deviations about the mean is always:\n",
    "- Zero"
   ]
  },
  {
   "cell_type": "markdown",
   "metadata": {},
   "source": [
    "### Q. Normal distribution is also classified as\n",
    "- Gaussian distribution"
   ]
  },
  {
   "cell_type": "markdown",
   "metadata": {},
   "source": [
    "### Q. If X~N(100, 64), then standard deviation σ is:\n",
    "- 8"
   ]
  },
  {
   "cell_type": "code",
   "execution_count": null,
   "metadata": {},
   "outputs": [],
   "source": []
  }
 ],
 "metadata": {
  "kernelspec": {
   "display_name": "Python 3",
   "language": "python",
   "name": "python3"
  },
  "language_info": {
   "codemirror_mode": {
    "name": "ipython",
    "version": 3
   },
   "file_extension": ".py",
   "mimetype": "text/x-python",
   "name": "python",
   "nbconvert_exporter": "python",
   "pygments_lexer": "ipython3",
   "version": "3.6.4"
  }
 },
 "nbformat": 4,
 "nbformat_minor": 2
}
